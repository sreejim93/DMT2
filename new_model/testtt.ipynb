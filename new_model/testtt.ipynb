{
 "cells": [
  {
   "cell_type": "code",
   "execution_count": null,
   "metadata": {},
   "outputs": [],
   "source": [
    "import pandas as pd\n",
    "\n",
    "#df1 = pd.read_csv(\"C:\\\\Users\\\\niels\\\\Downloads\\\\expedia-personalized-sort\\\\data\\\\train.csv\")\n",
    "df2 = pd.read_csv(\"C:\\\\Users\\\\niels\\\\OneDrive\\\\Documenten\\\\GitHub\\\\Data2\\\\new model\\\\datasets\\\\train.csv\") "
   ]
  },
  {
   "cell_type": "code",
   "execution_count": null,
   "metadata": {},
   "outputs": [
    {
     "data": {
      "text/plain": [
       "60         4.0\n",
       "61         6.0\n",
       "62         2.0\n",
       "63         1.0\n",
       "64         3.0\n",
       "          ... \n",
       "4958342    2.0\n",
       "4958343    3.0\n",
       "4958344    4.0\n",
       "4958345    1.0\n",
       "4958346    6.0\n",
       "Name: position, Length: 3491170, dtype: float64"
      ]
     },
     "execution_count": 37,
     "metadata": {},
     "output_type": "execute_result"
    }
   ],
   "source": [
    "import numpy as np\n",
    "import math\n",
    "\n",
    "def func(x, a, b, c):\n",
    "    return a * (1 / (x**b)) + c\n",
    "\n",
    "np.arange(df2[\"position\"].max() + 1)\n"
   ]
  },
  {
   "cell_type": "code",
   "execution_count": null,
   "metadata": {},
   "outputs": [],
   "source": [
    "import numpy as np\n",
    "from deepdiff import DeepDiff\n",
    "u1 = np.unique(df1.srch_id)\n",
    "u2 = np.unique(df2.srch_id)\n",
    "\n",
    "removed = DeepDiff(u1, u2)['iterable_item_removed'].values()\n",
    "df1[df1[\"srch_id\"].isin(removed)].to_csv(\"testset.csv\")\n"
   ]
  },
  {
   "cell_type": "code",
   "execution_count": null,
   "metadata": {},
   "outputs": [
    {
     "data": {
      "text/html": [
       "<div>\n",
       "<style scoped>\n",
       "    .dataframe tbody tr th:only-of-type {\n",
       "        vertical-align: middle;\n",
       "    }\n",
       "\n",
       "    .dataframe tbody tr th {\n",
       "        vertical-align: top;\n",
       "    }\n",
       "\n",
       "    .dataframe thead th {\n",
       "        text-align: right;\n",
       "    }\n",
       "</style>\n",
       "<table border=\"1\" class=\"dataframe\">\n",
       "  <thead>\n",
       "    <tr style=\"text-align: right;\">\n",
       "      <th></th>\n",
       "      <th>a</th>\n",
       "      <th>b</th>\n",
       "    </tr>\n",
       "  </thead>\n",
       "  <tbody>\n",
       "    <tr>\n",
       "      <th>0</th>\n",
       "      <td>1</td>\n",
       "      <td>5</td>\n",
       "    </tr>\n",
       "  </tbody>\n",
       "</table>\n",
       "</div>"
      ],
      "text/plain": [
       "   a  b\n",
       "0  1  5"
      ]
     },
     "execution_count": 27,
     "metadata": {},
     "output_type": "execute_result"
    }
   ],
   "source": []
  }
 ],
 "metadata": {
  "kernelspec": {
   "display_name": "Python 3",
   "language": "python",
   "name": "python3"
  },
  "language_info": {
   "codemirror_mode": {
    "name": "ipython",
    "version": 3
   },
   "file_extension": ".py",
   "mimetype": "text/x-python",
   "name": "python",
   "nbconvert_exporter": "python",
   "pygments_lexer": "ipython3",
   "version": "3.10.11"
  },
  "orig_nbformat": 4
 },
 "nbformat": 4,
 "nbformat_minor": 2
}
